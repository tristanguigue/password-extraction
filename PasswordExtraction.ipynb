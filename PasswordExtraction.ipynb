{
 "cells": [
  {
   "cell_type": "markdown",
   "metadata": {},
   "source": [
    "# Password Extraction\n",
    "This is a script to extract password out of natural language inputs and in particular foursquare comments. It has been tested for passwords in the English language, it is not language dependent but it will be less efficient to process multi-lingual input.\n",
    "\n",
    "It uses the occurences of words located before and after the password themselves to guess which word has the highest probability to be a password in the sentence."
   ]
  },
  {
   "cell_type": "code",
   "execution_count": 1,
   "metadata": {
    "collapsed": false
   },
   "outputs": [],
   "source": [
    "import pandas as pd\n",
    "import numpy as np\n",
    "from collections import namedtuple\n",
    "from sklearn import cross_validation\n",
    "from sklearn.grid_search import RandomizedSearchCV\n",
    "from sklearn.base import BaseEstimator\n",
    "from sklearn.metrics import classification_report\n",
    "import re\n",
    "import pprint\n",
    "import sys\n",
    "import multiprocessing"
   ]
  },
  {
   "cell_type": "code",
   "execution_count": 2,
   "metadata": {
    "collapsed": true
   },
   "outputs": [],
   "source": [
    "TEST_SET_PERCENT = 0.3\n",
    "BUDGET = 10**4\n",
    "DATA_FILE = 'password_tips_english.csv'\n",
    "EOL_TAG = '_eol_'\n",
    "BOL_TAG = '_bol_'"
   ]
  },
  {
   "cell_type": "code",
   "execution_count": 3,
   "metadata": {
    "collapsed": true
   },
   "outputs": [],
   "source": [
    "class PasswordEstimator(BaseEstimator):\n",
    "    \"\"\"This find the word with the highest probability to be a password within the list of words\n",
    "\n",
    "    Args:\n",
    "        word_dicts_before: this is the dictionary of words found before the password ordered by \n",
    "            their distance, for example:\n",
    "        [\n",
    "            // words found at distand d = 1 from the password\n",
    "            {\n",
    "                ':': 1,\n",
    "                'password': 0.4,\n",
    "                'coffee': 0.1,\n",
    "                'saxophone': 0.000001\n",
    "            },\n",
    "            // words found at distand d = 2 from the password\n",
    "            {\n",
    "                ':': 0.3,\n",
    "                'password': 1,\n",
    "                'wifi': 0.7\n",
    "                'saxophone': 0.0000001\n",
    "            }\n",
    "        ]\n",
    "        word_dicts_after: this is the dictionary of words found after the password ordered by \n",
    "            their distance\n",
    "        before_cutoff: number of words to take into account before the passwords\n",
    "        after_cutoff: number of words to take into account after the passwords\n",
    "        before_exponential_factor: the exponentional factor that will give the ponderation of\n",
    "            words before the password\n",
    "        after_exponential_factor: the exponentional factor that will give the ponderation of\n",
    "            words after the password\n",
    "        after_factor: the factor to which words after the password account in comparison with\n",
    "            words before the password\n",
    "        min_password_length: the number of character minimum for a word to be considered as a\n",
    "            password\n",
    "        margin_cutoff: we can look not only at the frequency of the word at that distance of the\n",
    "            password but also see the match we get if we move the word to the left or right\n",
    "        margin_factor: the ponderation of the match on the margin of the word found\n",
    "        eol_factor: the ponderation to give to newline\n",
    "    \"\"\"\n",
    "\n",
    "    def __init__(\n",
    "            self, before_cutoff=10, after_cutoff=10, before_exponential_factor=1,\n",
    "            after_exponential_factor=1, after_factor=0.5, min_password_length=4, margin_cutoff=10,\n",
    "            margin_factor=0.05, margin_exponential_factor=1, eol_factor=0.6, bol_factor=0.05):\n",
    "        self.before_cutoff = before_cutoff\n",
    "        self.after_cutoff = after_cutoff\n",
    "        self.before_exponential_factor = before_exponential_factor\n",
    "        self.after_exponential_factor = after_exponential_factor\n",
    "        self.after_factor = after_factor\n",
    "        self.min_password_length = min_password_length\n",
    "        self.margin_cutoff = margin_cutoff\n",
    "        self.margin_factor = margin_factor\n",
    "        self.margin_exponential_factor = margin_exponential_factor\n",
    "        self.eol_factor = eol_factor\n",
    "        self.bol_factor = bol_factor"
   ]
  },
  {
   "cell_type": "markdown",
   "metadata": {},
   "source": [
    "## Training\n",
    "The training set is used to build dictionaries of words that occurs at a given position before and after the password.\n",
    "- The password is identified in the tip\n",
    "- The tip is split into the part precending and succeeding the password\n",
    "\n",
    "Example:\n",
    "```\n",
    "    tip = 'The password is FNASDIYZXC.'\n",
    "    password = 'FNASDIYZXC'\n",
    "    tip_before, tip_after = get_tip_before_after_password(tip, password)\n",
    "    print(tip_before) # 'The password is '\n",
    "    print(tip_after) # '.'\n",
    "```"
   ]
  },
  {
   "cell_type": "code",
   "execution_count": 4,
   "metadata": {
    "collapsed": true
   },
   "outputs": [],
   "source": [
    "def get_tip_before_after_password(self, tip, password):\n",
    "    \"\"\"Split the tip in the string before and after the password\n",
    "\n",
    "    Args:\n",
    "        tip: the tip containing the password. Example: 'The password is FNASDIYZXC'\n",
    "        password: the known password in the tip. Example: 'FNASDIYZXC'\n",
    "\n",
    "    Returns:\n",
    "        A tuple containing the string before and the string after the password\n",
    "        Example: ('The password is ', '.')\n",
    "    \"\"\"\n",
    "    index_password = tip.index(password)\n",
    "    return tip[:index_password], tip[index_password + len(password):]\n",
    "\n",
    "PasswordEstimator.get_tip_before_after_password = get_tip_before_after_password"
   ]
  },
  {
   "cell_type": "markdown",
   "metadata": {},
   "source": [
    "- Words are extracted for both parts and ordered by distance to the password.  Each tip is split into constituent words with the following considerations:\n",
    "    - The ponctuation is considered as their own word.\n",
    "    - The quotes are ignored.\n",
    "    - Other ASCII characters are considered as part of other words if not separated by spaces.\n",
    "\n",
    "The beginning and end of line is added to the list.\n",
    "Example:\n",
    "```\n",
    "    words_before = get_words('The password is ', reverse=True, bol=True)\n",
    "    words_after = get_words('.', eol=True)\n",
    "    print(words_before) # ['is', 'password' 'The', '_bol_']\n",
    "    print(words_after) # ['.', '_eol_']\n",
    "```"
   ]
  },
  {
   "cell_type": "code",
   "execution_count": 5,
   "metadata": {
    "collapsed": true
   },
   "outputs": [],
   "source": [
    "def get_words(self, tip, reverse=False, bol=False, eol=False):\n",
    "    \"\"\"Split the string into words base on a regex\n",
    "\n",
    "    Args:\n",
    "        tip (string): the tip to be split. Example: 'The password is '\n",
    "        reverse (bool): reverse the words if necessary\n",
    "        bol (bool): contains beginning of line\n",
    "        eol (bool): contains end of line\n",
    "\n",
    "    Returns:\n",
    "        The list of words\n",
    "        Example: ['is', 'password' 'The', '_bol_']\n",
    "    \"\"\"\n",
    "    # We consider the ponctuation as words on their own\n",
    "    # Quotes are ignored\n",
    "    words_case_sensitive = []\n",
    "    if bol:\n",
    "        words_case_sensitive += [BOL_TAG]\n",
    "    words_case_sensitive += re.findall(r\"[\\w\\/\\\\#$%@^_+*<=>&-]+|[.,!?;:]\", tip)\n",
    "    if eol:\n",
    "        words_case_sensitive += [EOL_TAG]\n",
    "\n",
    "    words_case_insensitive = [s.lower() for s in words_case_sensitive]\n",
    "\n",
    "    if reverse:\n",
    "        return list(reversed(words_case_sensitive)), list(reversed(words_case_insensitive))\n",
    "\n",
    "    return words_case_sensitive, words_case_insensitive\n",
    "PasswordEstimator.get_words = get_words"
   ]
  },
  {
   "cell_type": "markdown",
   "metadata": {},
   "source": [
    "- The words are added to the dictionary corresponding to their position with respect to the password. \n",
    "- The value in each dictionary are normalized with respect to the greatest occurence found\n",
    "\n",
    "Example of dictionary:\n",
    "```\n",
    "words_before_password = [\n",
    "    # words found at distand d = 1 from the password\n",
    "    {\n",
    "        ':': 1,\n",
    "        'password': 0.4,\n",
    "        'coffee': 0.1,\n",
    "        'saxophone': 0.000001,\n",
    "        ...\n",
    "    },\n",
    "    # words found at distand d = 2 from the password\n",
    "    {\n",
    "        ':': 0.3,\n",
    "        'password': 1,\n",
    "        'wifi': 0.7\n",
    "        'saxophone': 0.0000001,\n",
    "        ...\n",
    "    },\n",
    "    ...\n",
    "]\n",
    "\n",
    "words_after_password = [\n",
    "    # words found at distand d = 1 from the password\n",
    "    {\n",
    "        '_eol_': 1,\n",
    "        'wifi': 0.4,\n",
    "        ...\n",
    "    },\n",
    "    ...\n",
    "```"
   ]
  },
  {
   "cell_type": "code",
   "execution_count": 6,
   "metadata": {
    "collapsed": true
   },
   "outputs": [],
   "source": [
    "def add_words(self, words, word_dicts, max_words):\n",
    "    \"\"\"Add words found in the training set to the word dictionary\n",
    "\n",
    "    Args:\n",
    "        words: the list of words to add order by their distance to the password\n",
    "        word_dicts: the relevant word dictionaries to add to\n",
    "        max_words: the number of words we want to add\n",
    "\n",
    "    Returns:\n",
    "        The filled word dictionaries\n",
    "    \"\"\"\n",
    "    for i, word in enumerate(words):\n",
    "        if i >= max_words:\n",
    "            break\n",
    "\n",
    "        if word not in word_dicts[i]:\n",
    "            word_dicts[i][word] = 0\n",
    "        word_dicts[i][word] += 1\n",
    "\n",
    "    return word_dicts\n",
    "\n",
    "PasswordEstimator.add_words = add_words"
   ]
  },
  {
   "cell_type": "code",
   "execution_count": 7,
   "metadata": {
    "collapsed": true
   },
   "outputs": [],
   "source": [
    "def normalize(self, word_dicts):\n",
    "    \"\"\"Normalize the words found\n",
    "\n",
    "    Args:\n",
    "        word_dicts: the word dictionaries to be normalized\n",
    "\n",
    "    Returns:\n",
    "        The normalized word dictionaries\n",
    "    \"\"\"\n",
    "    for i, word_dict in enumerate(word_dicts):\n",
    "        max_val = max(word_dict.values())\n",
    "        word_dicts[i] = {k: v / max_val for k, v in word_dict.items()}\n",
    "    return word_dicts\n",
    "\n",
    "PasswordEstimator.normalize = normalize"
   ]
  },
  {
   "cell_type": "markdown",
   "metadata": {},
   "source": [
    "We have now put the whole training together"
   ]
  },
  {
   "cell_type": "code",
   "execution_count": 8,
   "metadata": {
    "collapsed": true
   },
   "outputs": [],
   "source": [
    "def fit(self, X, y):\n",
    "    \"\"\"Train the model\n",
    "\n",
    "    Args:\n",
    "        X: the training set containing the tips\n",
    "        y: the list of passwords matching the tips\n",
    "    \"\"\"\n",
    "    self.word_dicts_before = [{} for _ in range(0, self.before_cutoff)]\n",
    "    self.word_dicts_after = [{} for _ in range(0, self.after_cutoff)]\n",
    "\n",
    "    for i, tip in X.iteritems():\n",
    "        try:\n",
    "            tip_before, tip_after = self.get_tip_before_after_password(tip, y[i])\n",
    "        except ValueError:\n",
    "            continue\n",
    "\n",
    "        _, words_before = self.get_words(tip_before, reverse=True, bol=True)\n",
    "        _, words_after = self.get_words(tip_after, eol=True)\n",
    "        self.word_dicts_before = self.add_words(\n",
    "            words_before, self.word_dicts_before, self.before_cutoff)\n",
    "        self.word_dicts_after = self.add_words(\n",
    "            words_after, self.word_dicts_after, self.after_cutoff)\n",
    "\n",
    "    self.word_dicts_before = self.normalize(self.word_dicts_before)\n",
    "    self.word_dicts_after = self.normalize(self.word_dicts_after)\n",
    "    return self\n",
    "\n",
    "PasswordEstimator.fit = fit"
   ]
  },
  {
   "cell_type": "markdown",
   "metadata": {},
   "source": [
    "## Predicting\n",
    "\n",
    "The prediction is done by evaluating for every word the likeliness of it being a password by looking at the words preceding and succeeding it.\n",
    "\n",
    "- The tip is split into its consituent words\n",
    "```\n",
    "    tip_words = self.get_words(tip, eol=True, bol=True)\n",
    "    print(tip_words) # ['_bol_', 'The', 'password', 'is', 'FNASDIYZXC', '.', '_eol_']\n",
    "```\n",
    "- For each guess we split the words into two array of words that come before and after the password\n",
    "```\n",
    "    guessing = words[i] # 'FNASDIYZXC'\n",
    "    words_before = list(reversed(words[:i])) # ['is', 'password' 'The', '_bol_']\n",
    "    words_after = words[i + 1:] # ['.', '_eol_']\n",
    "```\n",
    "- We calculate the score of each array, their score is ponderated by a factor given as a parameter\n",
    "```\n",
    "    score_guess = score_before + score_after * self.factor_after\n",
    "```\n",
    "- For every word in the array we add the normalized occurence of the word in the dictionary at that position. We multiply this socre by a factor depending on the distance of the work to the password.\n",
    "```\n",
    "    scoring_word = 'password'\n",
    "    position = 1 # index is 1 so distance is 2\n",
    "    score_word = words_before_password[position][scoring_word] * self.ponderate(self.exponential_factor, position)\n",
    "```"
   ]
  },
  {
   "cell_type": "code",
   "execution_count": 9,
   "metadata": {
    "collapsed": true
   },
   "outputs": [],
   "source": [
    "def ponderate(self, exponential_factor, distance):\n",
    "    \"\"\"Ponderate the word score using an inverse exponentional\n",
    "\n",
    "    Args:\n",
    "        exponential_factor: the exponentional factor\n",
    "        distance: the x axis\n",
    "\n",
    "    Returns:\n",
    "        The ponderator\n",
    "    \"\"\"\n",
    "    return np.exp(-1 * exponential_factor * distance)\n",
    "\n",
    "PasswordEstimator.ponderate = ponderate"
   ]
  },
  {
   "cell_type": "code",
   "execution_count": 10,
   "metadata": {
    "collapsed": true
   },
   "outputs": [],
   "source": [
    "def get_score(self, words, word_dicts, max_words, exponential_factor, idx):\n",
    "    \"\"\"Calculate the likeliness that a potential word is a password based on the list of words\n",
    "        after or before the password\n",
    "\n",
    "    Args:\n",
    "        words: the list of words to consider\n",
    "        word_dicts: the relevant word dictionary\n",
    "        max_words: the number of words to consider\n",
    "        exponential_factor: the exponentional factor for the word ponderation based on\n",
    "            their distance to the password\n",
    "\n",
    "    Returns:\n",
    "        The score of this side of the password\n",
    "    \"\"\"\n",
    "    score = 0\n",
    "    for i in range(0, max_words):\n",
    "        word = None\n",
    "        word_dict = word_dicts[i]\n",
    "        if i < len(words):\n",
    "            word = words[i]\n",
    "\n",
    "        if word not in word_dict:\n",
    "            continue\n",
    "\n",
    "        word_score = word_dict[word]\n",
    "\n",
    "        # margin right\n",
    "        left_border = i + 1\n",
    "        right_border = min(i + 1 + self.margin_cutoff, max_words)\n",
    "        score_right_margin = self.get_score_margin(left_border, right_border, word, i, word_dicts, idx)\n",
    "        word_score += score_right_margin * self.margin_factor\n",
    "\n",
    "        # margin left\n",
    "        left_border = max(i - 1 - self.margin_cutoff, 0)\n",
    "        right_border = i - 1\n",
    "        score_left_margin = self.get_score_margin(left_border, right_border, word, i, word_dicts, idx)\n",
    "        word_score += score_left_margin * self.margin_factor\n",
    "\n",
    "        word_score *= self.ponderate(exponential_factor, i)\n",
    "        if word == EOL_TAG:\n",
    "            word_score *= self.eol_factor\n",
    "        if word == BOL_TAG:\n",
    "            word_score *= self.bol_factor\n",
    "\n",
    "        score += word_score\n",
    "    return score\n",
    "    \n",
    "PasswordEstimator.get_score = get_score"
   ]
  },
  {
   "cell_type": "markdown",
   "metadata": {},
   "source": [
    "- We also add the score given by the occurence of that  word in the dictionary on both sides of the given position. This gives us the chance to give value to a word that is very frequent at a different position with respect to the password then it is in the evaluated sentence.\n",
    "```\n",
    "    scoring_word = 'password'\n",
    "    position = 1\n",
    "    position_shift = -1 # we're looking at the 'left' site of the word \n",
    "    score_word += words_before_password[position + position_shift][scoring_word] \\\n",
    "                    * factor(position) \\\n",
    "                    * margin_factor(position_shift)\n",
    "```"
   ]
  },
  {
   "cell_type": "code",
   "execution_count": 11,
   "metadata": {
    "collapsed": true
   },
   "outputs": [],
   "source": [
    "def get_score_margin(self, left_border, right_border, word, index, word_dicts, idx):\n",
    "    \"\"\"Calculate the score given by the left or right margin of the word\n",
    "\n",
    "    Args:\n",
    "        left_border: the left side of the interval we are looking at\n",
    "        right_border: the right side of the interval we are looking at\n",
    "        word: the word we are calculating the score for\n",
    "        index: the distance from the password the word is at\n",
    "        word_dicts: the dictionary of word counts\n",
    "\n",
    "    Returns:\n",
    "        The score given by this margin\n",
    "    \"\"\"\n",
    "    score = 0\n",
    "    for j in range(left_border, right_border):\n",
    "        if word in word_dicts[j]:\n",
    "            distance = np.absolute(j - index) - 1\n",
    "            score += word_dicts[j][word] * self.ponderate(\n",
    "                self.margin_exponential_factor, distance)\n",
    "    return score\n",
    "\n",
    "PasswordEstimator.get_score_margin = get_score_margin"
   ]
  },
  {
   "cell_type": "markdown",
   "metadata": {},
   "source": [
    "We can now put the prediting function together"
   ]
  },
  {
   "cell_type": "code",
   "execution_count": 12,
   "metadata": {
    "collapsed": true
   },
   "outputs": [],
   "source": [
    "def predict(self, X):\n",
    "    \"\"\"Predict a list of password for the given tips\n",
    "\n",
    "    Args:\n",
    "        X: the list of tips\n",
    "\n",
    "    Returns:\n",
    "        The list of predicted passwords\n",
    "    \"\"\"\n",
    "\n",
    "    y = []\n",
    "    for idx, tip in X.iteritems():\n",
    "        words_case_sensitive, words = self.get_words(tip, eol=True, bol=True)\n",
    "\n",
    "        best_score = 0\n",
    "        best_guess = ''\n",
    "\n",
    "        for i in range(0, len(words)):\n",
    "            guessing = words_case_sensitive[i]\n",
    "\n",
    "            if guessing == EOL_TAG or guessing == BOL_TAG:\n",
    "                continue\n",
    "\n",
    "            if len(guessing) < self.min_password_length:\n",
    "                continue\n",
    "\n",
    "            words_before = list(reversed(words[:i]))\n",
    "            words_after = words[i + 1:]\n",
    "            score_before = self.get_score(\n",
    "                words_before, self.word_dicts_before, self.before_cutoff,\n",
    "                self.before_exponential_factor, idx)\n",
    "            score_after = self.get_score(\n",
    "                words_after, self.word_dicts_after, self.after_cutoff,\n",
    "                self.after_exponential_factor, idx)\n",
    "            score = score_before + score_after * self.after_factor\n",
    "\n",
    "            if score > best_score:\n",
    "                best_guess = guessing\n",
    "                best_score = score\n",
    "\n",
    "        y.append(best_guess)\n",
    "\n",
    "    return pd.Series(y, index=X.index)\n",
    "\n",
    "PasswordEstimator.predict = predict"
   ]
  },
  {
   "cell_type": "markdown",
   "metadata": {},
   "source": [
    "## Main"
   ]
  },
  {
   "cell_type": "markdown",
   "metadata": {},
   "source": [
    "Load the data and extract annotated data"
   ]
  },
  {
   "cell_type": "code",
   "execution_count": 13,
   "metadata": {
    "collapsed": true
   },
   "outputs": [],
   "source": [
    "df = pd.read_csv('data/' + DATA_FILE)\n",
    "data = df[(df.password.notnull()) & (df.done == '1')]\n",
    "\n",
    "Passwords = namedtuple('Passwords', 'data target')\n",
    "pwds = Passwords(data=data.tip, target=data.password)"
   ]
  },
  {
   "cell_type": "markdown",
   "metadata": {},
   "source": [
    "Split into training and test set"
   ]
  },
  {
   "cell_type": "code",
   "execution_count": 14,
   "metadata": {
    "collapsed": true
   },
   "outputs": [],
   "source": [
    "X_train, X_test, y_train, y_test = cross_validation.train_test_split(\n",
    "    pwds.data, pwds.target, test_size=TEST_SET_PERCENT, random_state=0)"
   ]
  },
  {
   "cell_type": "markdown",
   "metadata": {},
   "source": [
    "Set the parameter space"
   ]
  },
  {
   "cell_type": "code",
   "execution_count": 15,
   "metadata": {
    "collapsed": true
   },
   "outputs": [],
   "source": [
    "parameters = {\n",
    "    'before_cutoff': list(range(0, 6)),\n",
    "    'after_cutoff': list(range(0, 6)),\n",
    "    'before_exponential_factor': np.logspace(-1, 1, 10),\n",
    "    'after_exponential_factor': np.logspace(-1, 1, 10),\n",
    "    'after_factor': np.logspace(-2, 1, 20),\n",
    "    'min_password_length': list(range(1, 10)),\n",
    "    'margin_cutoff': list(range(0, 3)),\n",
    "    'margin_factor': np.logspace(-2, 0, 10),\n",
    "    'margin_exponential_factor': np.logspace(-1, 1, 10),\n",
    "    'eol_factor': np.logspace(-2, 0, 10),\n",
    "    'bol_factor': np.logspace(-2, 0, 10)\n",
    "}"
   ]
  },
  {
   "cell_type": "markdown",
   "metadata": {},
   "source": [
    "Use random search and k-fold cross validation, the time this takes depends on the budget chosen, increase the budget to find more accurate parameters"
   ]
  },
  {
   "cell_type": "code",
   "execution_count": 16,
   "metadata": {
    "collapsed": true
   },
   "outputs": [],
   "source": [
    "clf = RandomizedSearchCV(\n",
    "    PasswordEstimator(), parameters, cv=2, scoring='accuracy',\n",
    "    n_jobs=multiprocessing.cpu_count() - 1, n_iter=BUDGET)\n",
    "\n",
    "clf = clf.fit(X_train, y_train)"
   ]
  },
  {
   "cell_type": "code",
   "execution_count": 17,
   "metadata": {
    "collapsed": false
   },
   "outputs": [
    {
     "name": "stdout",
     "output_type": "stream",
     "text": [
      "{'after_cutoff': 2,\n",
      " 'after_exponential_factor': 2.1544346900318834,\n",
      " 'after_factor': 0.54555947811685168,\n",
      " 'before_cutoff': 3,\n",
      " 'before_exponential_factor': 0.774263682681127,\n",
      " 'bol_factor': 0.59948425031894093,\n",
      " 'eol_factor': 1.0,\n",
      " 'margin_cutoff': 1,\n",
      " 'margin_exponential_factor': 3.5938136638046259,\n",
      " 'margin_factor': 0.016681005372000592,\n",
      " 'min_password_length': 4}\n"
     ]
    }
   ],
   "source": [
    "pprint.pprint(clf.best_params_)"
   ]
  },
  {
   "cell_type": "markdown",
   "metadata": {},
   "source": [
    "Get the final score on the test set"
   ]
  },
  {
   "cell_type": "code",
   "execution_count": 18,
   "metadata": {
    "collapsed": false
   },
   "outputs": [
    {
     "name": "stdout",
     "output_type": "stream",
     "text": [
      "0.917261055635\n"
     ]
    }
   ],
   "source": [
    "test_score = clf.score(X_test, y_test)\n",
    "print(test_score)"
   ]
  }
 ],
 "metadata": {
  "kernelspec": {
   "display_name": "Python 2",
   "language": "python",
   "name": "python2"
  },
  "language_info": {
   "codemirror_mode": {
    "name": "ipython",
    "version": 2
   },
   "file_extension": ".py",
   "mimetype": "text/x-python",
   "name": "python",
   "nbconvert_exporter": "python",
   "pygments_lexer": "ipython2",
   "version": "2.7.10"
  }
 },
 "nbformat": 4,
 "nbformat_minor": 0
}
